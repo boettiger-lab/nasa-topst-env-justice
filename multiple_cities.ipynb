{
 "cells": [
  {
   "cell_type": "code",
   "execution_count": null,
   "id": "f2b2c487-4ed0-4147-a08d-142842ecfb87",
   "metadata": {},
   "outputs": [],
   "source": [
    "# box = [west, south, east, north]\n",
    "city_boxes = {\n",
    "    'LA': [-118.5, 33.66, -117.83, 34.16],\n",
    "    'SFO': [-122.51006, 37.70801, -122.36268, 37.80668],\n",
    "    'OAK': [-122.3291, 34.7250, -122.1583, 37.8416],\n",
    "}"
   ]
  }
 ],
 "metadata": {
  "kernelspec": {
   "display_name": "Python 3 (ipykernel)",
   "language": "python",
   "name": "python3"
  },
  "language_info": {
   "codemirror_mode": {
    "name": "ipython",
    "version": 3
   },
   "file_extension": ".py",
   "mimetype": "text/x-python",
   "name": "python",
   "nbconvert_exporter": "python",
   "pygments_lexer": "ipython3",
   "version": "3.10.12"
  }
 },
 "nbformat": 4,
 "nbformat_minor": 5
}
