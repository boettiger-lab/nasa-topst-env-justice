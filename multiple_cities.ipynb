{
 "cells": [
  {
   "cell_type": "code",
   "execution_count": null,
   "id": "f2b2c487-4ed0-4147-a08d-142842ecfb87",
   "metadata": {},
   "outputs": [],
   "source": [
    "# box = [west, south, east, north]\n",
    "city_boxes = {\n",
    "    'CA-SD': [-117.2629, 32.6609, -117.072, 32.8134],\n",
    "    'CA-LA': [-118.5, 33.66, -117.83, 34.16],\n",
    "    'CA-BKF': [-119.239, 35.198, -118.857, 35.507],\n",
    "    'CA-SFO': [-122.51006, 37.70801, -122.36268, 37.80668],\n",
    "    'CA-OAK': [-122.3291, 34.7250, -122.1583, 37.8416],\n",
    "    'IL-CHI': [-87.7738, 41.8096, -87.5658, 41.9653],\n",
    "    'NY-NYC': [-80.0, 40.3, -71.7, 45.3]\n",
    "}"
   ]
  }
 ],
 "metadata": {
  "kernelspec": {
   "display_name": "Python 3 (ipykernel)",
   "language": "python",
   "name": "python3"
  },
  "language_info": {
   "codemirror_mode": {
    "name": "ipython",
    "version": 3
   },
   "file_extension": ".py",
   "mimetype": "text/x-python",
   "name": "python",
   "nbconvert_exporter": "python",
   "pygments_lexer": "ipython3",
   "version": "3.10.12"
  }
 },
 "nbformat": 4,
 "nbformat_minor": 5
}
