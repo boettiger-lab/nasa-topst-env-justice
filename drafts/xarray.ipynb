{
 "cells": [
  {
   "cell_type": "code",
   "execution_count": 1,
   "id": "fdba4406-f5eb-44c0-bab9-c222cd847a21",
   "metadata": {},
   "outputs": [],
   "source": [
    "import earthaccess\n",
    "import rioxarray\n",
    "import rasterio\n",
    "import xarray as xr\n",
    "import numpy as np\n",
    "from timebudget import timebudget"
   ]
  },
  {
   "cell_type": "code",
   "execution_count": null,
   "id": "c21deccd-aeb5-4519-8733-b38b6edf87f2",
   "metadata": {},
   "outputs": [
    {
     "name": "stdout",
     "output_type": "stream",
     "text": [
      "Granules found: 31\n"
     ]
    }
   ],
   "source": [
    "results = earthaccess.search_data(\n",
    "    short_name=\"MUR-JPL-L4-GLOB-v4.1\",\n",
    "    #temporal=(\"2020-01-01\", \"2021-12-31\"),\n",
    "    temporal=(\"2019-01-01\", \"2019-01-31\"),\n",
    ")\n"
   ]
  },
  {
   "cell_type": "code",
   "execution_count": null,
   "id": "c3dab7cb-525f-4a3f-aab7-9649845079fc",
   "metadata": {},
   "outputs": [],
   "source": [
    "@timebudget\n",
    "def via_earthaccess():\n",
    "  files = earthaccess.open(results)\n",
    "  ds = xr.open_mfdataset(files,\n",
    "                         decode_times=False, \n",
    "                         parallel=True, \n",
    "                         variables=['analysed_sst', 'sea_ice_fraction'], \n",
    "                         concat_dim=\"time\", \n",
    "                         combine=\"nested\")\n",
    "  return(ds)\n",
    "\n",
    "ds2 = via_earthaccess()\n"
   ]
  },
  {
   "cell_type": "code",
   "execution_count": null,
   "id": "510b918e-733b-41db-94c2-5bf2a7d8398d",
   "metadata": {},
   "outputs": [],
   "source": [
    "\n",
    "dds = ds2.sel(lon=slice(-93, -76), lat=slice(41, 49))\n",
    "cond = (dds.sea_ice_fraction < 0.15) | np.isnan(dds.sea_ice_fraction)\n",
    "result = dds.analysed_sst.where(cond)\n",
    "result.mean(\"time\").plot(figsize=(14, 6), x=\"lon\", y=\"lat\")"
   ]
  },
  {
   "cell_type": "code",
   "execution_count": null,
   "id": "8a7eec77-de5d-43bd-af77-b912851d57bc",
   "metadata": {},
   "outputs": [],
   "source": [
    "\n",
    "@timebudget\n",
    "def via_gdalvsi():\n",
    "    ## pull out the URLs\n",
    "    data_links = [granule.data_links(access=\"external\") for granule in results]\n",
    "    url_links = [f'{link[0]}' for link in data_links]\n",
    "    # and here we go\n",
    "    ds = xr.open_mfdataset(url_links, engine = \"rasterio\", decode_times=False, parallel=True)\n",
    "    return(ds)\n",
    "\n",
    "ds1 = via_gdalvsi()"
   ]
  },
  {
   "cell_type": "code",
   "execution_count": null,
   "id": "b7a85fa3-0888-4ede-85c2-fa379033be5a",
   "metadata": {},
   "outputs": [],
   "source": [
    "\n",
    "import os\n",
    "from pathlib import Path\n",
    "cookies = os.path.expanduser(\"~/.urs_cookies\")\n",
    "Path(cookies).touch()\n",
    "\n",
    "  data_links = [granule.data_links(access=\"external\") for granule in results]\n",
    "  url_links = [f'{link[0]}' for link in data_links]\n",
    "  # and here we go\n",
    "with rasterio.Env(GDAL_HTTP_COOKIEFILE=cookies, \n",
    "                    GDAL_HTTP_COOKIEJAR=cookies, \n",
    "                    GDAL_HTTP_NETRC=True):\n",
    "    with WarpedVRT(url_links, src_crs='EPSG:4326') as vrt:\n",
    "\n",
    "\n",
    "@timebudget\n",
    "def via_gdalvsi():\n",
    "  ## pull out the URLs\n",
    "\n",
    "    ds = xr.open_mfdataset(url_links, engine = \"rasterio\", decode_times=False, parallel=True)\n",
    "    return(ds)\n",
    "\n",
    "\n",
    "ds1 = via_gdalvsi()"
   ]
  },
  {
   "cell_type": "code",
   "execution_count": null,
   "id": "21ba6f1d-0915-47d0-a67f-2b0508cc0b38",
   "metadata": {},
   "outputs": [],
   "source": [
    "dds = ds1.sel(x=slice(-93, -76), y=slice(41, 49)) # crs is messed up\n",
    "dds.values()"
   ]
  },
  {
   "cell_type": "code",
   "execution_count": null,
   "id": "f226e390-f84c-4440-8cc1-48b7df6c41d9",
   "metadata": {},
   "outputs": [],
   "source": [
    "dds = ds1.sel(x=slice(-93, -76), y=slice(41, 49))\n",
    "cond = (dds.sea_ice_fraction < 0.15) | np.isnan(dds.sea_ice_fraction)\n",
    "result = dds.analysed_sst.where(cond)\n",
    "result.std(\"time\").plot(figsize=(14, 6), x=\"x\", y=\"y\")"
   ]
  }
 ],
 "metadata": {
  "kernelspec": {
   "display_name": "nasa",
   "language": "python",
   "name": "nasa"
  },
  "language_info": {
   "codemirror_mode": {
    "name": "ipython",
    "version": 3
   },
   "file_extension": ".py",
   "mimetype": "text/x-python",
   "name": "python",
   "nbconvert_exporter": "python",
   "pygments_lexer": "ipython3",
   "version": "3.10.12"
  }
 },
 "nbformat": 4,
 "nbformat_minor": 5
}
