{
 "cells": [
  {
   "cell_type": "markdown",
   "metadata": {},
   "source": [
    "# Examining Environmental Justice through Open Source, Cloud-Native Tools: R\n",
    "\n",
    "This Jupyter (ipynb) notebook provides a brief introduction to a cloud-native workflow.  A more complete version of this example can be found in the intro.qmd Quarto notebook.  Here, we merely include an `ipynb` version to demonstrate how Jupyter notebooks may be included in quarto and, in this case, execute in an R kernel.\n",
    "\n",
    "_Note: in Codespaces editor, choose \"Select Kernel\" -> \"Jupyter Kernels\" -> \"R\" to get started._"
   ]
  },
  {
   "cell_type": "code",
   "execution_count": null,
   "id": "e2242148-5e59-4489-8620-b0e393dd7655",
   "metadata": {
    "tags": []
   },
   "outputs": [],
   "source": [
    "library(rstac)\n",
    "library(gdalcubes)\n",
    "library(stars)\n",
    "library(tmap)\n",
    "gdalcubes::gdalcubes_options(parallel = TRUE)"
   ]
  },
  {
   "cell_type": "code",
   "execution_count": 2,
   "id": "f8567e1c-e63c-4ce5-8175-5f14b0ae3312",
   "metadata": {
    "tags": []
   },
   "outputs": [],
   "source": [
    "box <- c(xmin=-122.51006, ymin=37.70801, xmax=-122.36268, ymax=37.80668) \n",
    "start_date <- \"2022-06-01\"\n",
    "end_date <- \"2022-08-01\"\n",
    "items <-\n",
    "  stac(\"https://earth-search.aws.element84.com/v0/\") |>\n",
    "  stac_search(collections = \"sentinel-s2-l2a-cogs\",\n",
    "              bbox = box,\n",
    "              datetime = paste(start_date, end_date, sep=\"/\"),\n",
    "              limit = 100) |>\n",
    "  post_request()"
   ]
  },
  {
   "cell_type": "code",
   "execution_count": null,
   "id": "93516834-178f-48f6-aaf0-59b2bade3751",
   "metadata": {
    "tags": []
   },
   "outputs": [],
   "source": [
    "\n",
    "col <- stac_image_collection(items$features,\n",
    "                             asset_names = c(\"B04\", \"B08\", \"SCL\"),\n",
    "                             property_filter = \\(x){\n",
    "                               x[[\"eo:cloud_cover\"]] < 20\n",
    "                             })\n",
    "\n",
    "cube <- cube_view(srs = \"EPSG:4326\",\n",
    "                  extent = list(t0 = start_date, t1 = end_date,\n",
    "                                left = box[1], right = box[3],\n",
    "                                top = box[4], bottom = box[2]),\n",
    "                  nx = 1200, ny = 1200, dt = \"P1D\",\n",
    "                  aggregation = \"median\", resampling = \"average\")\n",
    "\n",
    "mask <- image_mask(\"SCL\", values=c(3, 8, 9)) # mask clouds and cloud shadows\n"
   ]
  },
  {
   "cell_type": "code",
   "execution_count": 5,
   "id": "132cce52-39d4-4903-a78f-2a91bf969fa2",
   "metadata": {
    "tags": []
   },
   "outputs": [],
   "source": [
    "\n",
    "ndvi <- raster_cube(col, cube, mask = mask) |>\n",
    "  select_bands(c(\"B04\", \"B08\")) |>\n",
    "  apply_pixel(\"(B08-B04)/(B08+B04)\", \"NDVI\") |>\n",
    "  reduce_time(c(\"mean(NDVI)\"))\n",
    "plot(ndvi)\n"
   ]
  }
 ],
 "metadata": {
  "kernelspec": {
   "display_name": ".venv",
   "language": "python",
   "name": "python3"
  },
  "language_info": {
   "codemirror_mode": "r",
   "file_extension": ".r",
   "mimetype": "text/x-r-source",
   "name": "python",
   "pygments_lexer": "r",
   "version": "3.10.12"
  }
 },
 "nbformat": 4,
 "nbformat_minor": 5
}
