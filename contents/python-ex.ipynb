{
 "cells": [
  {
   "cell_type": "markdown",
   "metadata": {},
   "source": [
    " # Examining Environmental Justice through Open Source, Cloud-Native Tools: R\n",
    "\n",
    "This Jupyter (ipynb) notebook provides a brief introduction to a cloud-native workflow.  A more complete version of this example can be found in the intro.qmd Quarto notebook.  Here, we merely include an `ipynb` version to demonstrate how Jupyter notebooks may be included in quarto.\n",
    "\n",
    "_Note: in Codespaces editor, choose \"Select Kernel\" -> \"Jupyter Kernels\" to get started._\n",
    "\n",
    "Developer note: At this time, Gitpod VSCode editor will not detect the default python environment (VIRTUAL_ENV variable, pointing to `/opt/venv/bin/python`), or any other kernelspec added with ipykernel.  "
   ]
  },
  {
   "cell_type": "code",
   "execution_count": null,
   "id": "ae1766b4-e3b0-414c-a12e-d07f4d001a7e",
   "metadata": {
    "tags": []
   },
   "outputs": [],
   "source": [
    "from pystac_client import Client\n",
    "import odc.stac\n",
    "import pystac_client\n",
    "import numpy as np\n",
    "\n",
    "import warnings\n",
    "warnings.filterwarnings('ignore')"
   ]
  },
  {
   "cell_type": "code",
   "execution_count": null,
   "id": "2fa33351-ed8f-4698-8bfc-2fbdb413d7cc",
   "metadata": {
    "tags": []
   },
   "outputs": [],
   "source": [
    "box = [-122.51006, 37.70801, -122.36268, 37.80668]\n",
    "client = Client.open(\"https://earth-search.aws.element84.com/v1\")\n",
    "search = client.search(\n",
    "    collections = ['sentinel-2-l2a'],\n",
    "    bbox = box,\n",
    "    datetime = \"2022-06-01/2022-08-01\",\n",
    "    query={\"eo:cloud_cover\": {\"lt\": 20}}\n",
    ")"
   ]
  },
  {
   "cell_type": "code",
   "execution_count": null,
   "id": "db5e1558-d227-4a13-8ed7-1fed6e21e225",
   "metadata": {
    "tags": []
   },
   "outputs": [],
   "source": [
    "items = search.get_all_items()\n",
    "# items[0]  # peak at an item"
   ]
  },
  {
   "cell_type": "code",
   "execution_count": null,
   "metadata": {},
   "outputs": [],
   "source": [
    "\n",
    "data = odc.stac.load(\n",
    "    items,\n",
    "    crs=\"EPSG:32610\",\n",
    "    bands=[\"nir08\", \"red\"],\n",
    "    resolution=30,\n",
    "    bbox=box\n",
    ")\n"
   ]
  },
  {
   "cell_type": "code",
   "execution_count": null,
   "metadata": {},
   "outputs": [],
   "source": [
    "\n",
    "red = data.red\n",
    "nir = data.nir08\n",
    "\n",
    "# summarize over time. \n",
    "# quite probably better to use resampling strategy in odc.stac.load though.\n",
    "import dask.diagnostics\n",
    "with dask.diagnostics.ProgressBar():\n",
    "    ndvi = ( ((nir - red) / (red + nir)).\n",
    "            resample(time=\"MS\").\n",
    "            median(\"time\", keep_attrs=True).\n",
    "            compute()\n",
    "    )\n",
    "\n",
    "# mask out bad pixels\n",
    "ndvi = ndvi.where(ndvi <= 1)"
   ]
  },
  {
   "cell_type": "code",
   "execution_count": null,
   "metadata": {},
   "outputs": [],
   "source": [
    "\n",
    "import matplotlib as plt\n",
    "cmap = plt.colormaps.get_cmap('viridis')  # viridis is the default colormap for imshow\n",
    "cmap.set_bad(color='black')\n",
    "\n",
    "ndvi.plot.imshow(row=\"time\", cmap=cmap, add_colorbar=False, size=4)\n"
   ]
  },
  {
   "cell_type": "code",
   "execution_count": null,
   "metadata": {},
   "outputs": [],
   "source": [
    "import geopandas as gpd\n",
    "sf = \"/vsicurl/https://dsl.richmond.edu/panorama/redlining/static/downloads/geojson/CASanFrancisco1937.geojson\"\n",
    "poly = gpd.read_file(sf)\n",
    "poly = poly.to_crs(epsg=\"32610\")\n"
   ]
  },
  {
   "cell_type": "code",
   "execution_count": null,
   "metadata": {},
   "outputs": [],
   "source": []
  },
  {
   "cell_type": "code",
   "execution_count": null,
   "metadata": {},
   "outputs": [],
   "source": [
    "import rasterstats\n",
    "\n",
    "result = rasterstats.zonal_stats(\n",
    "    vectors = sf, \n",
    "    raster = ndvi.values,\n",
    "    nodata = src_srtm.nodata, \n",
    "    affine = src_srtm.transform,\n",
    "    stats = ['mean', 'min', 'max']\n",
    ")\n",
    "result"
   ]
  }
 ],
 "metadata": {
  "kernelspec": {
   "display_name": "Python 3",
   "language": "python",
   "name": "python3"
  },
  "language_info": {
   "codemirror_mode": {
    "name": "ipython",
    "version": 3
   },
   "file_extension": ".py",
   "mimetype": "text/x-python",
   "name": "python",
   "nbconvert_exporter": "python",
   "pygments_lexer": "ipython3",
   "version": "3.10.12"
  }
 },
 "nbformat": 4,
 "nbformat_minor": 5
}
